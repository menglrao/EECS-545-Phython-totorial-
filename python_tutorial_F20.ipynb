{
 "cells": [
  {
   "cell_type": "markdown",
   "metadata": {},
   "source": [
    "# Python Tutorial\n",
    "\n",
    "This python tutorial is for EECS 545 Fall 2020. \n",
    "Instructor: Clayton Scott.\n",
    "GSIs: Haonan Zhu, Tony Zhang, Conrad Hougen, Thomas Huang."
   ]
  },
  {
   "cell_type": "markdown",
   "metadata": {},
   "source": [
    "## Installation and Configuration\n",
    "\n",
    "### Install Python:\n",
    "The best way to install Python is through Anaconda, which installs all basic packages for you. We will be using Python3.\n",
    "\n",
    "https://docs.anaconda.com/anaconda/install/\n",
    "\n",
    "Linux: https://docs.anaconda.com/anaconda/install/linux/\n",
    "\n",
    "Windows: https://docs.anaconda.com/anaconda/install/windows/\n",
    "\n",
    "Mac: https://docs.anaconda.com/anaconda/install/mac-os/\n",
    "\n",
    "\n",
    "### Python Packages\n",
    "Python comes with a wide array of useful packages for machine learning and data science. We will be taking advantage of several popular packages in this class, which are listed below along with the version we are using, what they are used for, and links to the official websites.\n",
    "\n",
    "- Python: 3.8.3\n",
    "- NumPy: 1.18.5, for scientific computing (https://numpy.org/)\n",
    "- SciPy: 1.5.0, for scientific computing (https://www.scipy.org/)\n",
    "- Matplotlib: 3.2.2, for plotting (https://matplotlib.org/)\n",
    "- Jupyter: 1.0.0, for Jupyter Notebook (more info below) (https://jupyter.org/)\n",
    "\n",
    "If you installed Python with Anaconda, then you don't have to worry about installing these packages individually; they are already installed for you. Otherwise, you have to install these packages yourself. You can use either of the following commands:\n",
    "\n",
    "`conda install PACKAGE_NAME`\n",
    "\n",
    "`pip install PACKAGE_NAME`\n",
    "\n",
    "Note that our staff will be using the Anaconda installation, so we may not be able to help you with issues or bugs that arise due to your own installations.\n",
    "\n",
    "\n",
    "### Writing your code:\n",
    "You have two main options: \n",
    "1. Jupyter: The Anaconda distribution comes with Jupyter Notebook already. A Jupyter Notebook is what you are looking at right now. It is a convinent way to write, display, and share code. The code in each cell is ran by pressing `shift + enter` and the values of variables are global within the notebook. To run a Jupyter Notebook, open the terminal in your system and type: `jupyter notebook`\n",
    "\n",
    "2. IDE: There are many popular IDEs for Python. Two popular ones are Spyder and PyCharm. Spyder is already installed if you have installed the Anaconda distribution. PyCharm (student version) can be installed from https://www.jetbrains.com/community/education/#students. You may find using an IDE helpful for homework submissions. To run a Python file called `test.py` (i.e., a `.py` file, not a `.ipynb` file), open the terminal, navigate to the directory with the file, and type `python test.py`.\n",
    "\n",
    "\n",
    "### Code submission for HW:\n",
    "You must submit `.py` files when you submit the code. `.ipynb` or any other files are not accepted. \n",
    "\n",
    "\n",
    "### This tutorial:\n",
    "\n",
    "#### Clone the tutorial repository\n",
    "To get the materials via Git, open the terminal and navigate to a directory where you would like this tutorial saved. Then type:\n",
    "\n",
    "`git clone https://github.com/thomasehuang/EECS-545-Fall-2020-Tutorial.git`.\n",
    "\n",
    "You can install Git at https://git-scm.com/book/en/v2/Getting-Started-Installing-Git.\n",
    "\n",
    "Alternatively, you can just download the files from Canvas, although it will be harder to receive updates in case there are any changes to the materials in the future.\n",
    "\n",
    "#### Run the tutorial\n",
    "After installing Jupyter Notebook, open the terminal and navigate to the directory where you saved the tutorial and run:\n",
    "\n",
    "`jupyter notebook`.\n",
    "\n",
    "A link to your localhost should appear, which you can click to access Jupyter Notebook.\n"
   ]
  },
  {
   "cell_type": "markdown",
   "metadata": {},
   "source": [
    "## Basics of the language"
   ]
  },
  {
   "cell_type": "markdown",
   "metadata": {},
   "source": [
    "#### Hello world!"
   ]
  },
  {
   "cell_type": "code",
   "execution_count": 1,
   "metadata": {},
   "outputs": [],
   "source": [
    "print('Hello world!')"
   ]
  },
  {
   "cell_type": "markdown",
   "metadata": {},
   "source": [
    "#### Variable and type"
   ]
  },
  {
   "cell_type": "code",
   "execution_count": 2,
   "metadata": {},
   "outputs": [
    {
     "name": "stdout",
     "output_type": "stream",
     "text": [
      "5\n",
      "<class 'int'>\n"
     ]
    }
   ],
   "source": [
    "x = 5\n",
    "print(x)\n",
    "print(type(x))"
   ]
  },
  {
   "cell_type": "code",
   "execution_count": 3,
   "metadata": {
    "pycharm": {
     "name": "#%%\n"
    }
   },
   "outputs": [
    {
     "name": "stdout",
     "output_type": "stream",
     "text": [
      "2.0 <class 'float'>\n"
     ]
    }
   ],
   "source": [
    "y = 2.0\n",
    "print(y, type(y))"
   ]
  },
  {
   "cell_type": "markdown",
   "metadata": {
    "pycharm": {
     "name": "#%% md\n"
    }
   },
   "source": [
    "#### Basic operations"
   ]
  },
  {
   "cell_type": "code",
   "execution_count": 4,
   "metadata": {},
   "outputs": [
    {
     "name": "stdout",
     "output_type": "stream",
     "text": [
      "x = 5\n",
      "addition\n",
      "7\n",
      "subtraction\n",
      "3\n",
      "multiplication\n",
      "10\n",
      "division\n",
      "2.5\n",
      "integer division\n",
      "2\n",
      "exponentiation\n",
      "25\n",
      "modulo\n",
      "1\n"
     ]
    }
   ],
   "source": [
    "print('x = {}'.format(x))\n",
    "\n",
    "print('addition')\n",
    "print(x + 2)\n",
    "print('subtraction')\n",
    "print(x - 2)\n",
    "print('multiplication')\n",
    "print(x * 2)\n",
    "print('division')\n",
    "print(x / 2)\n",
    "print('integer division')\n",
    "print(x // 2)\n",
    "print('exponentiation')\n",
    "print(x ** 2)\n",
    "print('modulo')\n",
    "print(x % 2)"
   ]
  },
  {
   "cell_type": "code",
   "execution_count": 5,
   "metadata": {
    "pycharm": {
     "name": "#%%\n"
    }
   },
   "outputs": [
    {
     "name": "stdout",
     "output_type": "stream",
     "text": [
      "0\n",
      "2\n",
      "4\n",
      "8\n"
     ]
    }
   ],
   "source": [
    "x = 0\n",
    "print(x)\n",
    "x = x + 2\n",
    "print(x)\n",
    "x += 2\n",
    "print(x)\n",
    "x *= 2\n",
    "print(x)\n",
    "# x++ and ++x do not work in Python"
   ]
  },
  {
   "cell_type": "markdown",
   "metadata": {
    "pycharm": {
     "name": "#%% md\n"
    }
   },
   "source": [
    "#### Booleans (True/False)"
   ]
  },
  {
   "cell_type": "code",
   "execution_count": 6,
   "metadata": {},
   "outputs": [
    {
     "name": "stdout",
     "output_type": "stream",
     "text": [
      "True <class 'bool'>\n"
     ]
    }
   ],
   "source": [
    "t = True  # capitalization matters\n",
    "f = False\n",
    "print(t, type(t))"
   ]
  },
  {
   "cell_type": "code",
   "execution_count": 7,
   "metadata": {
    "pycharm": {
     "name": "#%%\n"
    }
   },
   "outputs": [
    {
     "name": "stdout",
     "output_type": "stream",
     "text": [
      "and\n",
      "False\n",
      "\n",
      "or\n",
      "True\n",
      "\n",
      "not\n",
      "False\n",
      "\n",
      "==\n",
      "False\n",
      "\n",
      "!=\n",
      "True\n"
     ]
    }
   ],
   "source": [
    "# boolean operations\n",
    "t, f = True, False\n",
    "print('and')   # equivalent to &&\n",
    "print(t and f)\n",
    "print()\n",
    "\n",
    "print('or')    # equivalent to ||\n",
    "print(t or f)\n",
    "print()\n",
    "\n",
    "print('not')\n",
    "print(not t)\n",
    "print()\n",
    "\n",
    "print('==')\n",
    "print(t == f)\n",
    "print()\n",
    "\n",
    "print('!=')\n",
    "print(t != f)"
   ]
  },
  {
   "cell_type": "markdown",
   "metadata": {
    "pycharm": {
     "name": "#%% md\n"
    }
   },
   "source": [
    "#### Strings"
   ]
  },
  {
   "cell_type": "code",
   "execution_count": 8,
   "metadata": {},
   "outputs": [
    {
     "name": "stdout",
     "output_type": "stream",
     "text": [
      "hello world\n",
      "hello world\n"
     ]
    }
   ],
   "source": [
    "hello = 'hello' # both single and double quotes work\n",
    "world = \"world\"\n",
    "print(hello, world)\n",
    "print(hello + ' ' + world)"
   ]
  },
  {
   "cell_type": "code",
   "execution_count": 9,
   "metadata": {},
   "outputs": [
    {
     "name": "stdout",
     "output_type": "stream",
     "text": [
      "5 2.0 hello world\n",
      "5 2.0 hello world\n",
      "5, 2.0, hello world\n",
      "5, 2.0, hello world\n"
     ]
    }
   ],
   "source": [
    "# string formatting\n",
    "x, y = 5, 2.0\n",
    "print(x, y, hello, world)\n",
    "\n",
    "print(str(x) + ' ' + str(y) + ' ' + hello + ' ' + world)\n",
    "\n",
    "hw = '%d, %.1f, %s %s' % (x, y, hello, world)\n",
    "print(hw)\n",
    "\n",
    "hw = '{}, {}, {} {}'.format(x, y, hello, world) # recommended formatting style\n",
    "print(hw)"
   ]
  },
  {
   "cell_type": "code",
   "execution_count": 10,
   "metadata": {
    "pycharm": {
     "name": "#%%\n"
    }
   },
   "outputs": [
    {
     "name": "stdout",
     "output_type": "stream",
     "text": [
      "Hello\n",
      " HELLO WORLD \n",
      " hello world \n",
      " hEllllo woRLd \n",
      "hElLo woRLd\n"
     ]
    }
   ],
   "source": [
    "# useful string operations\n",
    "s = 'hello'\n",
    "print(s.capitalize())          # capitalize string\n",
    "s = ' hElLo woRLd '\n",
    "print(s.upper())               # convert string to upper case\n",
    "print(s.lower())               # convert setring to lower case\n",
    "print(s.replace('lL', 'llll')) # replace all instances of one substring with another substring (case sensitive)\n",
    "print(s.strip())               # strip leading and trailing whitespaces"
   ]
  },
  {
   "cell_type": "markdown",
   "metadata": {
    "pycharm": {
     "name": "#%% md\n"
    }
   },
   "source": [
    "#### Lists"
   ]
  },
  {
   "cell_type": "code",
   "execution_count": 11,
   "metadata": {},
   "outputs": [
    {
     "name": "stdout",
     "output_type": "stream",
     "text": [
      "[1, 2, 3.0, 4.5, 'hello', 'world'] <class 'list'>\n",
      "3.0\n",
      "world\n"
     ]
    }
   ],
   "source": [
    "x = [1, 2, 3.0, 4.5, 'hello', 'world']\n",
    "print(x, type(x))\n",
    "print(x[2])  # access by index\n",
    "print(x[-1]) # index can be negative (starting from the end)"
   ]
  },
  {
   "cell_type": "code",
   "execution_count": 12,
   "metadata": {},
   "outputs": [
    {
     "name": "stdout",
     "output_type": "stream",
     "text": [
      "[1, 2, 3.0, 4.5, 'hello', 'world', 'new item1', 'new item2']\n",
      "[1, 2, 3.0, 4.5, 'hello', 'world', 'new item1', 'new item2', 'another item']\n",
      "[1, 2, 3.0, 4.5, 'hello', 'world', 'new item1', 'new item2', 'another item', ['new', 'list']]\n"
     ]
    }
   ],
   "source": [
    "# lists are mutable\n",
    "x += ['new item1', 'new item2']\n",
    "print(x)\n",
    "x.append('another item')\n",
    "print(x)\n",
    "\n",
    "# lists can contain other lists\n",
    "x.append(['new', 'list'])\n",
    "print(x)"
   ]
  },
  {
   "cell_type": "code",
   "execution_count": 13,
   "metadata": {
    "pycharm": {
     "name": "#%%\n"
    }
   },
   "outputs": [
    {
     "name": "stdout",
     "output_type": "stream",
     "text": [
      "[3, 4, 5, 6]\n",
      "[1, 2, 3]\n",
      "[3, 4]\n",
      "[5, 6]\n",
      "[1, 3, 5]\n",
      "['a', 'b', 'c', 4, 5, 6]\n"
     ]
    }
   ],
   "source": [
    "# slicing for lists (accessing sublists)\n",
    "x = [1, 2, 3, 4, 5, 6]\n",
    "print(x[2:])    # from index 2 to the end\n",
    "print(x[:3])    # from the start up to index 3 (not inclusive)\n",
    "print(x[2:4])   # from index 2 up to index 4 (not inclusive)\n",
    "print(x[-2:])   # from second to last index to the end\n",
    "print(x[0:5:2]) # get every other element\n",
    "x[:3] = ['a', 'b', 'c'] # modify the first 3 elements of the list\n",
    "print(x)"
   ]
  },
  {
   "cell_type": "code",
   "execution_count": 14,
   "metadata": {},
   "outputs": [
    {
     "name": "stdout",
     "output_type": "stream",
     "text": [
      "[1, 2, 0, 4]\n",
      "[1, 2, 0, 4]\n",
      "\n",
      "[1, 2, 0, 4]\n",
      "[1, 2, 3, 4]\n"
     ]
    }
   ],
   "source": [
    "# lists are passed by reference\n",
    "x = [1, 2, 3, 4]\n",
    "y = x\n",
    "y[2] = 0\n",
    "print(y)\n",
    "print(x)\n",
    "print()\n",
    "\n",
    "# copy lists\n",
    "x = [1, 2, 3, 4]\n",
    "y = x[:]\n",
    "y[2] = 0\n",
    "print(y)\n",
    "print(x)"
   ]
  },
  {
   "cell_type": "code",
   "execution_count": 15,
   "metadata": {},
   "outputs": [
    {
     "name": "stdout",
     "output_type": "stream",
     "text": [
      "[1, 2, 3, 4, 2]\n",
      "length of list\n",
      "5\n",
      "max element of list\n",
      "4\n",
      "min element of list\n",
      "1\n",
      "number of occurences of element 2 in list\n",
      "2\n",
      "index of element 3 in list\n",
      "2\n",
      "reverse list\n",
      "[2, 4, 3, 2, 1]\n",
      "sort list\n",
      "[1, 2, 2, 3, 4]\n"
     ]
    }
   ],
   "source": [
    "# useful list functions\n",
    "x = [1, 2, 3, 4, 2]\n",
    "print(x)\n",
    "print('length of list')\n",
    "print(len(x))\n",
    "print('max element of list')\n",
    "print(max(x))\n",
    "print('min element of list')\n",
    "print(min(x))\n",
    "print('number of occurences of element 2 in list')\n",
    "print(x.count(2))\n",
    "print('index of element 3 in list')\n",
    "print(x.index(3))\n",
    "print('reverse list')\n",
    "x.reverse()\n",
    "print(x)\n",
    "print('sort list')\n",
    "x.sort()\n",
    "print(x)"
   ]
  },
  {
   "cell_type": "markdown",
   "metadata": {},
   "source": [
    "#### Loops"
   ]
  },
  {
   "cell_type": "code",
   "execution_count": 16,
   "metadata": {
    "pycharm": {
     "name": "#%%\n"
    }
   },
   "outputs": [
    {
     "name": "stdout",
     "output_type": "stream",
     "text": [
      "We are at the iteration 0\n",
      "We are at the iteration 1\n",
      "We are at the iteration 2\n",
      "We are at the iteration 3\n"
     ]
    }
   ],
   "source": [
    "for i in [0, 1, 2, 3]:\n",
    "    print(\"We are at the iteration %d\" % (i))"
   ]
  },
  {
   "cell_type": "code",
   "execution_count": 17,
   "metadata": {
    "pycharm": {
     "name": "#%%\n"
    }
   },
   "outputs": [
    {
     "name": "stdout",
     "output_type": "stream",
     "text": [
      "We are at the iteration 0\n",
      "We are at the iteration 1\n",
      "We are at the iteration 2\n",
      "We are at the iteration 3\n"
     ]
    }
   ],
   "source": [
    "# same for loop\n",
    "for i in range(0, 4):\n",
    "    print(\"We are at the iteration %d\" % (i))"
   ]
  },
  {
   "cell_type": "code",
   "execution_count": 18,
   "metadata": {
    "pycharm": {
     "name": "#%%\n"
    }
   },
   "outputs": [
    {
     "name": "stdout",
     "output_type": "stream",
     "text": [
      "sum of elements in arr is 45\n"
     ]
    }
   ],
   "source": [
    "# another for loop\n",
    "arr_sum = 0\n",
    "arr = [1, 2, 3, 4, 5, 6, 7, 8, 9]\n",
    "for i in arr:\n",
    "    arr_sum += i\n",
    "print('sum of elements in arr is', arr_sum)"
   ]
  },
  {
   "cell_type": "code",
   "execution_count": 19,
   "metadata": {},
   "outputs": [
    {
     "name": "stdout",
     "output_type": "stream",
     "text": [
      "index 0: hello\n",
      "index 1: world\n",
      "index 2: !\n"
     ]
    }
   ],
   "source": [
    "# yet another for loop\n",
    "arr = ['hello', 'world', '!']\n",
    "for i, s in enumerate(arr):\n",
    "    print('index {}: {}'.format(i, s))"
   ]
  },
  {
   "cell_type": "code",
   "execution_count": 20,
   "metadata": {},
   "outputs": [
    {
     "name": "stdout",
     "output_type": "stream",
     "text": [
      "We are at the iteration 0\n",
      "We are at the iteration 1\n",
      "We are at the iteration 2\n",
      "We are at the iteration 3\n"
     ]
    }
   ],
   "source": [
    "for i in [0, 1, 2, 3]:\n",
    "    print(\"We are at the iteration %d\" % (i))"
   ]
  },
  {
   "cell_type": "code",
   "execution_count": 21,
   "metadata": {},
   "outputs": [
    {
     "name": "stdout",
     "output_type": "stream",
     "text": [
      "We are at the iteration 0\n",
      "We are at the iteration 1\n",
      "We are at the iteration 2\n",
      "We are at the iteration 3\n"
     ]
    }
   ],
   "source": [
    "# same for loop\n",
    "for i in range(0, 4):\n",
    "    print(\"We are at the iteration %d\" % (i))"
   ]
  },
  {
   "cell_type": "code",
   "execution_count": 22,
   "metadata": {},
   "outputs": [
    {
     "name": "stdout",
     "output_type": "stream",
     "text": [
      "sum of elements in arr is 45\n"
     ]
    }
   ],
   "source": [
    "# another for loop\n",
    "arr_sum = 0\n",
    "arr = [1, 2, 3, 4, 5, 6, 7, 8, 9]\n",
    "for i in arr:\n",
    "    arr_sum += i\n",
    "print('sum of elements in arr is', arr_sum)"
   ]
  },
  {
   "cell_type": "code",
   "execution_count": 23,
   "metadata": {},
   "outputs": [
    {
     "name": "stdout",
     "output_type": "stream",
     "text": [
      "index 0: hello\n",
      "index 1: world\n",
      "index 2: !\n"
     ]
    }
   ],
   "source": [
    "# yet another for loop\n",
    "arr = ['hello', 'world', '!']\n",
    "for i, s in enumerate(arr):\n",
    "    print('index {}: {}'.format(i, s))"
   ]
  },
  {
   "cell_type": "code",
   "execution_count": 24,
   "metadata": {},
   "outputs": [
    {
     "name": "stdout",
     "output_type": "stream",
     "text": [
      "We are at the iteration 0\n",
      "We are at the iteration 1\n",
      "We are at the iteration 2\n",
      "We are at the iteration 3\n"
     ]
    }
   ],
   "source": [
    "# while loop\n",
    "n = 4\n",
    "i = 0\n",
    "while i < n:\n",
    "    print(\"We are at the iteration %d\" % (i))\n",
    "    i += 1"
   ]
  },
  {
   "cell_type": "markdown",
   "metadata": {},
   "source": [
    "#### Logic"
   ]
  },
  {
   "cell_type": "code",
   "execution_count": 25,
   "metadata": {},
   "outputs": [
    {
     "name": "stdout",
     "output_type": "stream",
     "text": [
      "3 is less than 4\n"
     ]
    }
   ],
   "source": [
    "# if/then statements\n",
    "x = 3\n",
    "if x < 4:\n",
    "    print(x, 'is less than 4')\n",
    "elif x % 2 == 0:\n",
    "    print(x, 'is even and greater than or equal to 4')\n",
    "else:\n",
    "    print(x, 'is odd and greater than or equal to 4')"
   ]
  },
  {
   "cell_type": "code",
   "execution_count": 26,
   "metadata": {},
   "outputs": [
    {
     "name": "stdout",
     "output_type": "stream",
     "text": [
      "3 is either > 0 and < 4 or is even\n"
     ]
    }
   ],
   "source": [
    "# notation for logic (not, and, or)\n",
    "x = 3\n",
    "if (x > 0 and x < 4) or x % 2 == 0:\n",
    "    print(x, 'is either > 0 and < 4 or is even')"
   ]
  },
  {
   "cell_type": "code",
   "execution_count": 27,
   "metadata": {},
   "outputs": [
    {
     "name": "stdout",
     "output_type": "stream",
     "text": [
      "3 in [1, 2, 3, 4, 5, 6, 7, 8, 9]\n",
      "100 not in [1, 2, 3, 4, 5, 6, 7, 8, 9]\n"
     ]
    }
   ],
   "source": [
    "# checking if item is in list\n",
    "arr = [1, 2, 3, 4, 5, 6, 7, 8, 9]\n",
    "x = 3\n",
    "if x in arr:\n",
    "    print(x, 'in', arr)\n",
    "\n",
    "x = 100\n",
    "if x not in arr:\n",
    "    print(x, 'not in', arr)"
   ]
  },
  {
   "cell_type": "markdown",
   "metadata": {},
   "source": [
    "#### Functions"
   ]
  },
  {
   "cell_type": "code",
   "execution_count": 28,
   "metadata": {},
   "outputs": [],
   "source": [
    "# functions\n",
    "def foo(x=1, y=2):\n",
    "    if x < y:\n",
    "        print(x, 'is <', y)\n",
    "        return True, x + y\n",
    "    else:\n",
    "        print(x, 'is >=', y)\n",
    "        return False, x - y"
   ]
  },
  {
   "cell_type": "code",
   "execution_count": 29,
   "metadata": {},
   "outputs": [
    {
     "name": "stdout",
     "output_type": "stream",
     "text": [
      "2 is < 5\n",
      "True\n",
      "7\n"
     ]
    }
   ],
   "source": [
    "# calling foo\n",
    "flag, result = foo(2,5)\n",
    "print(flag)\n",
    "print(result)"
   ]
  },
  {
   "cell_type": "code",
   "execution_count": 30,
   "metadata": {},
   "outputs": [
    {
     "name": "stdout",
     "output_type": "stream",
     "text": [
      "5 is >= 2\n",
      "False\n",
      "3\n"
     ]
    }
   ],
   "source": [
    "# calling foo\n",
    "flag, result = foo(5,2)\n",
    "print(flag)\n",
    "print(result)"
   ]
  },
  {
   "cell_type": "code",
   "execution_count": 31,
   "metadata": {},
   "outputs": [
    {
     "name": "stdout",
     "output_type": "stream",
     "text": [
      "1 is < 2\n",
      "True\n",
      "3\n"
     ]
    }
   ],
   "source": [
    "# calling foo with default arguments\n",
    "flag, result = foo()\n",
    "print(flag)\n",
    "print(result)"
   ]
  },
  {
   "cell_type": "code",
   "execution_count": 32,
   "metadata": {},
   "outputs": [
    {
     "name": "stdout",
     "output_type": "stream",
     "text": [
      "[1, 2, 5]\n",
      "[1, 2, 5]\n"
     ]
    }
   ],
   "source": [
    "# be careful of passing lists as arguments to functions\n",
    "def func(y):\n",
    "    y[2] = 5\n",
    "    return y\n",
    "\n",
    "x = [1, 2, 3]\n",
    "print(func(x)) # expected behavior\n",
    "print(x)       # beware! original list is modified too\n",
    "               # to avoid this, make a copy in the function first"
   ]
  },
  {
   "cell_type": "markdown",
   "metadata": {},
   "source": [
    "#### Classes"
   ]
  },
  {
   "cell_type": "code",
   "execution_count": 33,
   "metadata": {},
   "outputs": [
    {
     "name": "stdout",
     "output_type": "stream",
     "text": [
      "Hello, Thomas!\n",
      "HELLO, THOMAS!\n"
     ]
    }
   ],
   "source": [
    "# classes\n",
    "class HelloWorld:\n",
    "    # constructor\n",
    "    def __init__(self, name):\n",
    "        self.name = name # instance variable\n",
    "    \n",
    "    # instance method\n",
    "    def hello(self, upper=False):\n",
    "        if upper:\n",
    "            print('HELLO, {}!'.format(self.name.upper()))\n",
    "        else:\n",
    "            print('Hello, {}!'.format(self.name))\n",
    "\n",
    "hw = HelloWorld('Thomas') # construct an instance of the HelloWorld class\n",
    "hw.hello()                # call the hello instance method with default arguments\n",
    "hw.hello(upper=True)      # call the hello instance method with the parameter upper set to True"
   ]
  },
  {
   "cell_type": "markdown",
   "metadata": {},
   "source": [
    "## NumPy Array basic manipulations"
   ]
  },
  {
   "cell_type": "code",
   "execution_count": 34,
   "metadata": {},
   "outputs": [],
   "source": [
    "# import numpy library\n",
    "import numpy as np"
   ]
  },
  {
   "cell_type": "markdown",
   "metadata": {},
   "source": [
    "#### NumPy arrays"
   ]
  },
  {
   "cell_type": "code",
   "execution_count": 35,
   "metadata": {},
   "outputs": [
    {
     "name": "stdout",
     "output_type": "stream",
     "text": [
      "[1 2 3]\n",
      "(3,)\n",
      "int32\n",
      "[[1. 2. 3.]\n",
      " [4. 5. 6.]]\n",
      "(2, 3)\n",
      "float64\n"
     ]
    }
   ],
   "source": [
    "x = np.array([1, 2, 3]) # 1D array\n",
    "print(x)\n",
    "print(x.shape) # get shape of array\n",
    "print(x.dtype) # get datatype of array\n",
    "\n",
    "y = np.array([[1., 2., 3.], [4., 5., 6.]]) # 2D array\n",
    "print(y)\n",
    "print(y.shape) # get shape of array\n",
    "print(y.dtype) # get datatype of array"
   ]
  },
  {
   "cell_type": "code",
   "execution_count": 36,
   "metadata": {},
   "outputs": [
    {
     "name": "stdout",
     "output_type": "stream",
     "text": [
      "[[0. 0. 0. 0.]\n",
      " [0. 0. 0. 0.]]\n",
      "(2, 4)\n",
      "float64\n"
     ]
    }
   ],
   "source": [
    "# initialize the 2-D matrix of size d1 x d2 with zeros\n",
    "d1, d2 = 2, 4\n",
    "matrix_zeros = np.zeros([d1, d2])\n",
    "print(matrix_zeros)\n",
    "print(matrix_zeros.shape)\n",
    "print(matrix_zeros.dtype)"
   ]
  },
  {
   "cell_type": "code",
   "execution_count": 37,
   "metadata": {},
   "outputs": [
    {
     "name": "stdout",
     "output_type": "stream",
     "text": [
      "[[1 1 1 1]\n",
      " [1 1 1 1]]\n",
      "(2, 4)\n",
      "int32\n"
     ]
    }
   ],
   "source": [
    "# initialize the 2-D matrix of size d1 x d2 with ones\n",
    "d1, d2 = 2, 4\n",
    "matrix_ones = np.ones([d1, d2], dtype=np.int32)\n",
    "print(matrix_ones)\n",
    "print(matrix_ones.shape)\n",
    "print(matrix_ones.dtype)"
   ]
  },
  {
   "cell_type": "code",
   "execution_count": 38,
   "metadata": {},
   "outputs": [
    {
     "name": "stdout",
     "output_type": "stream",
     "text": [
      "2x4 matrix with normally distributed entries: \n",
      " [[ 1.21014465  0.62545697 -0.53366336 -0.13237365]\n",
      " [ 0.33397949  2.03989611 -0.01797361  0.94278049]] \n",
      "\n",
      "2x4 matrix with uniform distributed entries: \n",
      " [[0.46316542 0.29068805 0.16249096 0.20038146]\n",
      " [0.23086894 0.52101942 0.45961184 0.71805959]] \n",
      "\n"
     ]
    }
   ],
   "source": [
    "# initialize the 2-D matrix of size d1 x d2 with random numbers\n",
    "d1, d2 = 2, 4\n",
    "matrix_randn = np.random.randn(d1, d2) # standard normal distribution\n",
    "print('2x4 matrix with normally distributed entries:', '\\n', matrix_randn, '\\n')\n",
    "\n",
    "matrix_rand = np.random.rand(d1, d2) # uniform distribution over [0, 1)\n",
    "print('2x4 matrix with uniform distributed entries:', '\\n', matrix_rand, '\\n')"
   ]
  },
  {
   "cell_type": "markdown",
   "metadata": {},
   "source": [
    "#### Array indexing"
   ]
  },
  {
   "cell_type": "code",
   "execution_count": 39,
   "metadata": {},
   "outputs": [
    {
     "name": "stdout",
     "output_type": "stream",
     "text": [
      "[[ 1  2  3  4]\n",
      " [ 5  6  7  8]\n",
      " [ 9 10 11 12]]\n",
      "(3, 4)\n",
      "2\n",
      "[[  1   2   3 100]\n",
      " [  5   6   7   8]\n",
      " [  9  10  11  12]]\n"
     ]
    }
   ],
   "source": [
    "x = np.array([[1,2,3,4],[5,6,7,8],[9,10,11,12]])\n",
    "print(x)\n",
    "print(x.shape)\n",
    "print(x[0,1]) # specify index for each dimension\n",
    "x[0,3] = 100\n",
    "print(x)"
   ]
  },
  {
   "cell_type": "code",
   "execution_count": 40,
   "metadata": {},
   "outputs": [
    {
     "name": "stdout",
     "output_type": "stream",
     "text": [
      "[[  1   2   3 100]\n",
      " [  5   6   7   8]]\n",
      "(2, 4)\n",
      "[[ 1  2]\n",
      " [ 5  6]\n",
      " [ 9 10]]\n",
      "(3, 2)\n",
      "[[  2   3 100]\n",
      " [  6   7   8]]\n",
      "[[  1   2   3 100]\n",
      " [  5   6   7   8]\n",
      " [ 13  14  15  16]]\n"
     ]
    }
   ],
   "source": [
    "# slicing numpy arrays\n",
    "print(x[:2])          # first two rows\n",
    "print(x[:2].shape)\n",
    "print(x[:,:2])        # first two columns\n",
    "print(x[:,:2].shape)\n",
    "print(x[:2,1:4])      # rows 1-2, columns 2-4\n",
    "x[2] = [13,14,15,16]\n",
    "print(x)"
   ]
  },
  {
   "cell_type": "code",
   "execution_count": 41,
   "metadata": {},
   "outputs": [
    {
     "name": "stdout",
     "output_type": "stream",
     "text": [
      "[[  1   2   3 100]\n",
      " [ 13  14  15  16]]\n",
      "[ 3 16]\n"
     ]
    }
   ],
   "source": [
    "# use list to specify indices for each dimension\n",
    "print(x[[0,2]])       # rows 1 and 3 \n",
    "print(x[[0,2],[2,3]]) # row 1 column 3, row 3 column 4"
   ]
  },
  {
   "cell_type": "markdown",
   "metadata": {},
   "source": [
    "#### Reshaping arrays"
   ]
  },
  {
   "cell_type": "code",
   "execution_count": 42,
   "metadata": {},
   "outputs": [
    {
     "name": "stdout",
     "output_type": "stream",
     "text": [
      "[ 0  1  2  3  4  5  6  7  8  9 10 11]\n",
      "[[ 0  1  2  3]\n",
      " [ 4  5  6  7]\n",
      " [ 8  9 10 11]]\n",
      "\n",
      "[ 0  1  2  3  4  5  0  7  8  9 10 11]\n",
      "[[ 0  1  2  3]\n",
      " [ 4  5  0  7]\n",
      " [ 8  9 10 11]]\n",
      "\n",
      "[[ 0  4  8]\n",
      " [ 1  5  9]\n",
      " [ 2  0 10]\n",
      " [ 3  7 11]]\n"
     ]
    }
   ],
   "source": [
    "# reshaping numpy arrays\n",
    "arr = np.arange(12)\n",
    "print(arr)\n",
    "arr2d = arr.reshape(3, 4) # convert arr from 1D to 2D with 3 rows and 4 columns\n",
    "print(arr2d)\n",
    "print()\n",
    "\n",
    "arr[6] = 0 # modifying array\n",
    "print(arr)\n",
    "print(arr2d)\n",
    "print()\n",
    "\n",
    "arr2dt = arr2d.T # transpose of array\n",
    "print(arr2dt)"
   ]
  },
  {
   "cell_type": "markdown",
   "metadata": {},
   "source": [
    "#### Array math"
   ]
  },
  {
   "cell_type": "code",
   "execution_count": 43,
   "metadata": {},
   "outputs": [
    {
     "name": "stdout",
     "output_type": "stream",
     "text": [
      "[[1 2]\n",
      " [3 4]]\n",
      "[[5 6]\n",
      " [7 8]]\n",
      "\n",
      "[[3 4]\n",
      " [5 6]]\n",
      "[[0 1]\n",
      " [2 3]]\n",
      "\n",
      "element-wise addition\n",
      "[[ 6  8]\n",
      " [10 12]]\n",
      "[[ 6  8]\n",
      " [10 12]]\n",
      "element-wise subtraction\n",
      "[[-4 -4]\n",
      " [-4 -4]]\n",
      "[[-4 -4]\n",
      " [-4 -4]]\n",
      "element-wise product\n",
      "[[ 5 12]\n",
      " [21 32]]\n",
      "[[ 5 12]\n",
      " [21 32]]\n",
      "element-wise division\n",
      "[[0.2        0.33333333]\n",
      " [0.42857143 0.5       ]]\n",
      "[[0.2        0.33333333]\n",
      " [0.42857143 0.5       ]]\n",
      "element-wise square root\n",
      "[[1.         1.41421356]\n",
      " [1.73205081 2.        ]]\n"
     ]
    }
   ],
   "source": [
    "# numpy array math\n",
    "x = np.array([[1,2],[3,4]])\n",
    "y = np.array([[5,6],[7,8]])\n",
    "print(x)\n",
    "print(y)\n",
    "print()\n",
    "\n",
    "print(x + 2) # element-wise addition\n",
    "print(x - 1) # element-wise subtraction\n",
    "print()\n",
    "\n",
    "print('element-wise addition')\n",
    "print(x + y)\n",
    "print(np.add(x, y))\n",
    "print('element-wise subtraction')\n",
    "print(x - y)\n",
    "print(np.subtract(x, y))\n",
    "print('element-wise product')\n",
    "print(x * y)\n",
    "print(np.multiply(x, y))\n",
    "print('element-wise division')\n",
    "print(x / y)\n",
    "print(np.divide(x, y))\n",
    "print('element-wise square root')\n",
    "print(np.sqrt(x))"
   ]
  },
  {
   "cell_type": "code",
   "execution_count": 44,
   "metadata": {},
   "outputs": [
    {
     "name": "stdout",
     "output_type": "stream",
     "text": [
      "[[ 0  1  2  3]\n",
      " [ 4  5  0  7]\n",
      " [ 8  9 10 11]]\n",
      "sum up all elements of a numpy array\n",
      "60\n",
      "sum across each row\n",
      "[ 6 16 38]\n",
      "mean of all elements\n",
      "5.0\n",
      "mean across each column\n",
      "[4. 5. 4. 7.]\n",
      "std of all elements\n",
      "3.763863263545405\n"
     ]
    }
   ],
   "source": [
    "# statistics of numpy arrays\n",
    "print(arr2d)\n",
    "print('sum up all elements of a numpy array')\n",
    "print(np.sum(arr2d))\n",
    "print('sum across each row')\n",
    "print(np.sum(arr2d, axis=1))\n",
    "print('mean of all elements')\n",
    "print(np.mean(arr2d))\n",
    "print('mean across each column')\n",
    "print(np.mean(arr2d, axis=0))\n",
    "print('std of all elements')\n",
    "print(np.std(arr2d))"
   ]
  },
  {
   "cell_type": "markdown",
   "metadata": {},
   "source": [
    "#### Useful NumPy functions"
   ]
  },
  {
   "cell_type": "code",
   "execution_count": 45,
   "metadata": {},
   "outputs": [
    {
     "name": "stdout",
     "output_type": "stream",
     "text": [
      "[ 0  1  2  3  4  5  6  7  8  9 10 11]\n",
      "random 3 indices are:  [2 0 5]\n"
     ]
    }
   ],
   "source": [
    "# selecting 3 indices randomly\n",
    "arr = np.arange(12)\n",
    "print(arr)\n",
    "rand_idx = np.random.choice(len(arr), 3)\n",
    "print('random 3 indices are: ', rand_idx)"
   ]
  },
  {
   "cell_type": "code",
   "execution_count": 46,
   "metadata": {},
   "outputs": [
    {
     "name": "stdout",
     "output_type": "stream",
     "text": [
      "[1 2 3]\n",
      "[[4 5 6]\n",
      " [7 8 9]]\n",
      "[[ 6  7  8]\n",
      " [ 9 10 11]]\n",
      "concatenate\n",
      "[1 2 3 1 2 3 1 2 3]\n",
      "vstack\n",
      "[[ 1  2  3]\n",
      " [ 4  5  6]\n",
      " [ 7  8  9]\n",
      " [ 6  7  8]\n",
      " [ 9 10 11]]\n",
      "[[ 1  2  3]\n",
      " [ 4  5  6]\n",
      " [ 7  8  9]\n",
      " [ 6  7  8]\n",
      " [ 9 10 11]]\n",
      "hstack\n",
      "[[ 4  5  6  6  7  8]\n",
      " [ 7  8  9  9 10 11]]\n",
      "[[ 4  5  6  6  7  8]\n",
      " [ 7  8  9  9 10 11]]\n"
     ]
    }
   ],
   "source": [
    "x = np.array([1,2,3])\n",
    "y = np.array([[4,5,6],[7,8,9]])\n",
    "print(x)\n",
    "print(y)\n",
    "print(y + 2)\n",
    "print('concatenate')\n",
    "print(np.concatenate([x, x, x]))\n",
    "print('vstack')\n",
    "print(np.vstack([x, y, y+2]))\n",
    "print(np.concatenate([x.reshape(1,3), y, y+2], axis=0))\n",
    "print('hstack')\n",
    "print(np.hstack([y, y+2]))\n",
    "print(np.concatenate([y, y+2], axis=1))"
   ]
  },
  {
   "cell_type": "markdown",
   "metadata": {},
   "source": [
    "#### Broadcasting"
   ]
  },
  {
   "cell_type": "code",
   "execution_count": 47,
   "metadata": {},
   "outputs": [
    {
     "name": "stdout",
     "output_type": "stream",
     "text": [
      "[[1 2 3]] (1, 3)\n",
      "[[0 1 2]\n",
      " [3 4 5]\n",
      " [6 7 8]] (3, 3)\n",
      "\n",
      "[[ 1  3  5]\n",
      " [ 4  6  8]\n",
      " [ 7  9 11]]\n",
      "(3, 3)\n"
     ]
    }
   ],
   "source": [
    "x = np.array([[1,2,3]])\n",
    "y = np.arange(9).reshape(3,3)\n",
    "print(x, x.shape)\n",
    "print(y, y.shape)\n",
    "print()\n",
    "\n",
    "# if dimensions of two arrays differ in only one dimension, you can still perform mathematical operations\n",
    "z = x + y\n",
    "print(z)\n",
    "print(z.shape)"
   ]
  },
  {
   "cell_type": "markdown",
   "metadata": {},
   "source": [
    "#### Inner product"
   ]
  },
  {
   "cell_type": "code",
   "execution_count": 48,
   "metadata": {},
   "outputs": [
    {
     "name": "stdout",
     "output_type": "stream",
     "text": [
      "[[1 2]\n",
      " [3 4]] (2, 2)\n",
      "[[5 6]\n",
      " [7 8]] (2, 2)\n",
      "[ 9 10] (2,)\n",
      "[11 12] (2,)\n"
     ]
    }
   ],
   "source": [
    "x = np.array([[1,2],[3,4]])\n",
    "y = np.array([[5,6],[7,8]])\n",
    "v = np.array([9,10])\n",
    "w = np.array([11,12])\n",
    "print(x, x.shape)\n",
    "print(y, y.shape)\n",
    "print(v, v.shape)\n",
    "print(w, w.shape)"
   ]
  },
  {
   "cell_type": "code",
   "execution_count": 49,
   "metadata": {},
   "outputs": [
    {
     "name": "stdout",
     "output_type": "stream",
     "text": [
      "vector inner product\n",
      "219\n",
      "219\n"
     ]
    }
   ],
   "source": [
    "print('vector inner product')\n",
    "print(np.dot(v, w))\n",
    "print(np.dot(w, v))"
   ]
  },
  {
   "cell_type": "code",
   "execution_count": 50,
   "metadata": {},
   "outputs": [
    {
     "name": "stdout",
     "output_type": "stream",
     "text": [
      "matrix / vector product\n",
      "[29 67]\n",
      "[127 173]\n"
     ]
    }
   ],
   "source": [
    "print('matrix / vector product')\n",
    "print(np.dot(x, v))\n",
    "print(np.dot(y, w))"
   ]
  },
  {
   "cell_type": "code",
   "execution_count": 51,
   "metadata": {},
   "outputs": [
    {
     "name": "stdout",
     "output_type": "stream",
     "text": [
      "matrix / matrix product\n",
      "[[19 22]\n",
      " [43 50]]\n",
      "[[19 22]\n",
      " [43 50]]\n"
     ]
    }
   ],
   "source": [
    "print('matrix / matrix product')\n",
    "print(np.dot(x, y))\n",
    "print(np.matmul(x, y))"
   ]
  },
  {
   "cell_type": "markdown",
   "metadata": {},
   "source": [
    "#### Linear Algebra"
   ]
  },
  {
   "cell_type": "code",
   "execution_count": 52,
   "metadata": {},
   "outputs": [
    {
     "name": "stdout",
     "output_type": "stream",
     "text": [
      "[[1 2]\n",
      " [3 4]] (2, 2)\n",
      "[ 9 10] (2,)\n"
     ]
    }
   ],
   "source": [
    "x = np.array([[1,2],[3,4]])\n",
    "v = np.array([9,10])\n",
    "print(x, x.shape)\n",
    "print(v, v.shape)"
   ]
  },
  {
   "cell_type": "code",
   "execution_count": 53,
   "metadata": {},
   "outputs": [
    {
     "name": "stdout",
     "output_type": "stream",
     "text": [
      "13.45362404707371\n",
      "5.477225575051661\n"
     ]
    }
   ],
   "source": [
    "# norms\n",
    "print(np.linalg.norm(v, 2))     # 2-norm\n",
    "print(np.linalg.norm(x, 'fro')) # Frobenius norm"
   ]
  },
  {
   "cell_type": "code",
   "execution_count": 54,
   "metadata": {},
   "outputs": [
    {
     "name": "stdout",
     "output_type": "stream",
     "text": [
      "[[-2.   1. ]\n",
      " [ 1.5 -0.5]]\n"
     ]
    }
   ],
   "source": [
    "# inverse of matrix\n",
    "print(np.linalg.inv(x))"
   ]
  },
  {
   "cell_type": "code",
   "execution_count": 55,
   "metadata": {},
   "outputs": [
    {
     "name": "stdout",
     "output_type": "stream",
     "text": [
      "[-0.37228132  5.37228132]\n",
      "[[-0.82456484 -0.41597356]\n",
      " [ 0.56576746 -0.90937671]]\n"
     ]
    }
   ],
   "source": [
    "# eigenvalues/vectors\n",
    "values, vectors = np.linalg.eig(x)\n",
    "print(values)\n",
    "print(vectors)"
   ]
  },
  {
   "cell_type": "markdown",
   "metadata": {},
   "source": [
    "##  Importing and loading files (import csv, text or image files)"
   ]
  },
  {
   "cell_type": "markdown",
   "metadata": {},
   "source": [
    "#### CSV"
   ]
  },
  {
   "cell_type": "code",
   "execution_count": 56,
   "metadata": {},
   "outputs": [
    {
     "name": "stdout",
     "output_type": "stream",
     "text": [
      "['INSTNM', 'INSTURL', 'NPCURL']\n",
      "['Alabama A & M University', 'www.aamu.edu/', 'www2.aamu.edu/scripts/netpricecalc/npcalc.htm']\n",
      "['University of Alabama at Birmingham', 'www.uab.edu', 'uab.studentaidcalculator.com/survey.aspx']\n",
      "['Amridge University', 'www.amridgeuniversity.edu', 'www2.amridgeuniversity.edu:9091/']\n",
      "['University of Alabama in Huntsville', 'www.uah.edu', 'finaid.uah.edu/']\n",
      "['Alabama State University', 'www.alasu.edu', 'www.alasu.edu/cost-aid/forms/calculator/index.aspx']\n"
     ]
    }
   ],
   "source": [
    "import csv\n",
    "csv_file = open('Most-Recent-Cohorts-Scorecard-Elements.csv')\n",
    "csv_file_content = csv.reader(csv_file)\n",
    "for row in csv_file_content:\n",
    "    print(row)"
   ]
  },
  {
   "cell_type": "markdown",
   "metadata": {},
   "source": [
    "#### Text"
   ]
  },
  {
   "cell_type": "code",
   "execution_count": 57,
   "metadata": {},
   "outputs": [
    {
     "name": "stdout",
     "output_type": "stream",
     "text": [
      "b'This is a EECS 545 course\\n'\n"
     ]
    }
   ],
   "source": [
    "text = open(\"xyz.txt\", \"rb\").read()\n",
    "print(text)"
   ]
  },
  {
   "cell_type": "markdown",
   "metadata": {},
   "source": [
    "#### Image"
   ]
  },
  {
   "cell_type": "code",
   "execution_count": 58,
   "metadata": {},
   "outputs": [
    {
     "data": {
      "image/png": "[encoded data removed]",
      "text/plain": [
       "<PIL.JpegImagePlugin.JpegImageFile image mode=RGB size=400x400 at 0x225FF1E1160>"
      ]
     },
     "metadata": {},
     "output_type": "display_data"
    }
   ],
   "source": [
    "from PIL import Image               # to load images\n",
    "from IPython.display import display # to display images\n",
    "img = Image.open('umich.jpg')\n",
    "# img.show()\n",
    "display(img)"
   ]
  },
  {
   "cell_type": "markdown",
   "metadata": {},
   "source": [
    "##  Plotting techniques (matplotlib)"
   ]
  },
  {
   "cell_type": "code",
   "execution_count": 59,
   "metadata": {},
   "outputs": [
    {
     "data": {
      "image/png": "[encoded data removed]",
      "text/plain": [
       "<Figure size 432x288 with 1 Axes>"
      ]
     },
     "metadata": {
      "needs_background": "light"
     },
     "output_type": "display_data"
    }
   ],
   "source": [
    "# taken from https://matplotlib.org/gallery/lines_bars_and_markers/simple_plot.html\n",
    "# https://matplotlib.org/tutorials/introductory/sample_plots.html\n",
    "# You may need to type %matplotlib inline here\n",
    "import matplotlib\n",
    "import matplotlib.pyplot as plt\n",
    "\n",
    "# Data for plotting\n",
    "t = np.arange(0.0, 2.0, 0.01)\n",
    "s = 1 + np.sin(2 * np.pi * t)\n",
    "\n",
    "fig, ax = plt.subplots()\n",
    "ax.plot(t, s)\n",
    "\n",
    "ax.set(xlabel='time (s)', ylabel='voltage (mV)',\n",
    "       title='About as simple as it gets, folks')\n",
    "ax.grid()\n",
    "\n",
    "# fig.savefig(\"test.png\")\n",
    "plt.show()"
   ]
  },
  {
   "cell_type": "code",
   "execution_count": 60,
   "metadata": {},
   "outputs": [
    {
     "data": {
      "image/png": "[encoded data removed]",
      "text/plain": [
       "<Figure size 432x288 with 2 Axes>"
      ]
     },
     "metadata": {
      "needs_background": "light"
     },
     "output_type": "display_data"
    }
   ],
   "source": [
    "x1 = np.linspace(0.0, 5.0)\n",
    "x2 = np.linspace(0.0, 2.0)\n",
    "\n",
    "y1 = np.cos(2 * np.pi * x1) * np.exp(-x1)\n",
    "y2 = np.cos(2 * np.pi * x2)\n",
    "\n",
    "fig, axes = plt.subplots(2, 1)\n",
    "axes[0].plot(x1, y1, 'o-')\n",
    "axes[0].set_title('A tale of 2 subplots')\n",
    "axes[0].set_ylabel('Damped oscillation')\n",
    "\n",
    "axes[1].plot(x2, y2, '.-')\n",
    "axes[1].set_xlabel('time (s)')\n",
    "axes[1].set_ylabel('Undamped')\n",
    "\n",
    "plt.show()"
   ]
  },
  {
   "cell_type": "code",
   "execution_count": 61,
   "metadata": {},
   "outputs": [
    {
     "data": {
      "image/png": "[encoded data removed]",
      "text/plain": [
       "<Figure size 432x288 with 1 Axes>"
      ]
     },
     "metadata": {
      "needs_background": "light"
     },
     "output_type": "display_data"
    }
   ],
   "source": [
    "# make some fake data.\n",
    "a = b = np.arange(0, 3, .02)\n",
    "c = np.exp(a)\n",
    "d = c[::-1]\n",
    "\n",
    "# create plots with pre-defined labels.\n",
    "fig, ax = plt.subplots()\n",
    "ax.plot(a, c, 'k--', label='Model length')\n",
    "ax.plot(a, d, 'k:', label='Data length')\n",
    "ax.plot(a, c + d, 'k', label='Total message length')\n",
    "\n",
    "legend = ax.legend(loc='upper center', shadow=True, fontsize='x-large')\n",
    "\n",
    "# put a nicer background color on the legend.\n",
    "legend.get_frame().set_facecolor('#00FFCC')\n",
    "\n",
    "plt.show()"
   ]
  }
 ],
 "metadata": {
  "kernelspec": {
   "display_name": "PyCharm (UMICH)",
   "language": "python",
   "name": "pycharm-a4405258"
  },
  "language_info": {
   "codemirror_mode": {
    "name": "ipython",
    "version": 3
   },
   "file_extension": ".py",
   "mimetype": "text/x-python",
   "name": "python",
   "nbconvert_exporter": "python",
   "pygments_lexer": "ipython3",
   "version": "3.8.3"
  }
 },
 "nbformat": 4,
 "nbformat_minor": 4
}
