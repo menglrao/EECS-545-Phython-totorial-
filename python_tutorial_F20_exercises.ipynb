{
 "cells": [
  {
   "cell_type": "markdown",
   "metadata": {},
   "source": [
    "# Python Tutorial Exercises\n",
    "\n",
    "These python tutorial exercises is for EECS 545 Fall 2020. \n",
    "Instructor: Clayton Scott.\n",
    "GSIs: Haonan Zhu, Tony Zhang, Conrad Hougen, Thomas Huang."
   ]
  },
  {
   "cell_type": "markdown",
   "metadata": {},
   "source": [
    "Note: There can be multiple solutions to each exercise; our solution is just one of them. If you solved the exercise with a different method, then great! Though, if our solution is much simpler than yours, it may be worth it to learn from our solution, since often times you will find existing functions that you didn't know about that does exactly what you want."
   ]
  },
  {
   "cell_type": "markdown",
   "metadata": {},
   "source": [
    "## Basic Python"
   ]
  },
  {
   "cell_type": "code",
   "execution_count": null,
   "metadata": {},
   "outputs": [],
   "source": [
    "\"\"\"\n",
    "Create a function called num_sum that takes as input an integer n.\n",
    "Return two outputs:\n",
    "1. A list of all integers that are divisible by 3 or 7 between 0\n",
    "    and n inclusive.\n",
    "2. The sum of the above list.\n",
    "\"\"\"\n",
    "# \n",
    "\n",
    "print()"
   ]
  },
  {
   "cell_type": "code",
   "execution_count": null,
   "metadata": {},
   "outputs": [],
   "source": [
    "# Check against solution\n",
    "print(num_sum(0))\n",
    "print(num_sum(10))\n",
    "print(num_sum(30))\n",
    "\n",
    "# Solution\n",
    "print(\"\"\"\n",
    "([0], 0)\n",
    "([0, 3, 6, 7, 9], 25)\n",
    "([0, 3, 6, 7, 9, 12, 14, 15, 18, 21, 24, 27, 28, 30], 214)\n",
    "\"\"\")"
   ]
  },
  {
   "cell_type": "markdown",
   "metadata": {},
   "source": [
    "## NumPy"
   ]
  },
  {
   "cell_type": "markdown",
   "metadata": {},
   "source": [
    "### Part a) Creating NumPy arrays"
   ]
  },
  {
   "cell_type": "code",
   "execution_count": null,
   "metadata": {},
   "outputs": [],
   "source": [
    "import numpy as np\n",
    "np.random.seed(0)\n",
    "\n",
    "\"\"\"\n",
    "Create four NumPy arrays with the following conditions:\n",
    "- a is a 3x2 array that consists of values sampled from a uniform\n",
    "    distribution over [0,1).\n",
    "- b is a 2x1 array that consists of values sampled from a standard\n",
    "    normal distribution.\n",
    "- c is a 2x1 array that consists of only ones.\n",
    "- d is a 2x2 array that consists of only zeros with type int.\n",
    "\"\"\"\n",
    "# a = \n",
    "# b = \n",
    "# c = \n",
    "# d = \n",
    "\n",
    "print()"
   ]
  },
  {
   "cell_type": "code",
   "execution_count": null,
   "metadata": {},
   "outputs": [],
   "source": [
    "# Check against solution\n",
    "print(a)\n",
    "print(b)\n",
    "print(c)\n",
    "print(d)\n",
    "\n",
    "# Solution\n",
    "print(\"\"\"\n",
    "[[0.5488135  0.71518937]\n",
    " [0.60276338 0.54488318]\n",
    " [0.4236548  0.64589411]]\n",
    "[[ 0.95008842]\n",
    " [-0.15135721]]\n",
    "[[1.]\n",
    " [1.]]\n",
    "[[0 0]\n",
    " [0 0]]\n",
    "\"\"\")"
   ]
  },
  {
   "cell_type": "markdown",
   "metadata": {},
   "source": [
    "### Part b) Concatenating NumPy arrays"
   ]
  },
  {
   "cell_type": "code",
   "execution_count": null,
   "metadata": {},
   "outputs": [],
   "source": [
    "\"\"\"\n",
    "Create four NumPy arrays with the following conditions:\n",
    "- e is the concatenation of b and c in the first dimension.\n",
    "- f is the concatenation of b and d in the second dimension.\n",
    "- Concatenate b with another array to create g such that each row of g starts\n",
    "    with the number 1.\n",
    "- Add two rows of zeros to a through concatenation to create h.\n",
    "\"\"\"\n",
    "# e = \n",
    "# f = \n",
    "# g = \n",
    "# h = \n",
    "\n",
    "print()"
   ]
  },
  {
   "cell_type": "code",
   "execution_count": null,
   "metadata": {},
   "outputs": [],
   "source": [
    "# Check against solution\n",
    "print(e)\n",
    "print(f)\n",
    "print(g)\n",
    "print(h)\n",
    "\n",
    "# Solution\n",
    "print(\"\"\"\n",
    "[[ 0.95008842]\n",
    " [-0.15135721]\n",
    " [ 1.        ]\n",
    " [ 1.        ]]\n",
    "[[ 0.95008842  0.          0.        ]\n",
    " [-0.15135721  0.          0.        ]]\n",
    "[[ 1.          0.95008842]\n",
    " [ 1.         -0.15135721]]\n",
    "[[0.5488135  0.71518937]\n",
    " [0.60276338 0.54488318]\n",
    " [0.4236548  0.64589411]\n",
    " [0.         0.        ]\n",
    " [0.         0.        ]]\n",
    "\"\"\")"
   ]
  },
  {
   "cell_type": "markdown",
   "metadata": {},
   "source": [
    "### Part c) NumPy math"
   ]
  },
  {
   "cell_type": "code",
   "execution_count": null,
   "metadata": {},
   "outputs": [],
   "source": [
    "\"\"\"\n",
    "Create five NumPy arrays with the following conditions:\n",
    "- i: Compute the element-wise sum between b and c.\n",
    "- j: Compute the element-wise absolute difference between b and c.\n",
    "- k: Compute the inner product between the vectors b and c.\n",
    "- l: Compute the outer product between the vectors b and c.\n",
    "- m: Compute the matrix product between a and b.\n",
    "\"\"\"\n",
    "# i = \n",
    "# j = \n",
    "# k = \n",
    "# l = \n",
    "# m = \n",
    "\n",
    "print()"
   ]
  },
  {
   "cell_type": "code",
   "execution_count": null,
   "metadata": {},
   "outputs": [],
   "source": [
    "# Check against solution\n",
    "print(i)\n",
    "print(j)\n",
    "print(k)\n",
    "print(l)\n",
    "print(m)\n",
    "\n",
    "# Solution\n",
    "print(\"\"\"\n",
    "[[1.95008842]\n",
    " [0.84864279]]\n",
    "[[0.04991158]\n",
    " [1.15135721]]\n",
    "[[0.79873121]]\n",
    "[[ 0.95008842  0.95008842]\n",
    " [-0.15135721 -0.15135721]]\n",
    "[[0.41317229]\n",
    " [0.4902065 ]\n",
    " [0.30474879]]\n",
    "\"\"\")"
   ]
  },
  {
   "cell_type": "markdown",
   "metadata": {},
   "source": [
    "### Part d) Some more advanced exercises"
   ]
  },
  {
   "cell_type": "code",
   "execution_count": null,
   "metadata": {},
   "outputs": [],
   "source": [
    "\"\"\"\n",
    "Create three NumPy arrays with the following conditions:\n",
    "- n: Subtract the mean of each column of a from a.\n",
    "- o: Sort a by the values in the second column. You should\n",
    "    use numpy.argsort().\n",
    "- p: Create p, which is a but with the first two rows and\n",
    "    first column set to the value of b. Do not modify a.\n",
    "\"\"\"\n",
    "# n = \n",
    "# o = \n",
    "# p = \n",
    "\n",
    "print()"
   ]
  },
  {
   "cell_type": "code",
   "execution_count": null,
   "metadata": {},
   "outputs": [],
   "source": [
    "# Check against solution\n",
    "print(n)\n",
    "print(o)\n",
    "print(p)\n",
    "print(a[:2,:1])\n",
    "\n",
    "# Solution\n",
    "print(\"\"\"\n",
    "[[ 0.02373628  0.07986715]\n",
    " [ 0.07768615 -0.09043904]\n",
    " [-0.10142243  0.01057189]]\n",
    "[[0.60276338 0.54488318]\n",
    " [0.4236548  0.64589411]\n",
    " [0.5488135  0.71518937]]\n",
    "[[ 0.95008842  0.71518937]\n",
    " [-0.15135721  0.54488318]\n",
    " [ 0.4236548   0.64589411]]\n",
    "[[0.5488135 ]\n",
    " [0.60276338]]\n",
    "\"\"\")"
   ]
  },
  {
   "cell_type": "markdown",
   "metadata": {},
   "source": [
    "## Matplotlib"
   ]
  },
  {
   "cell_type": "code",
   "execution_count": null,
   "metadata": {},
   "outputs": [],
   "source": [
    "import matplotlib.pyplot as plt\n",
    "x = np.arange(100)\n",
    "y1 = np.arange(100)\n",
    "y2 = np.zeros(100)\n",
    "y3 = np.arange(100)[::-1]\n",
    "y4 = np.abs(y3 - y1)\n",
    "\n",
    "\"\"\"\n",
    "Create a Matplotlib figure with the following conditions:\n",
    "- 4 subplots in total, arranged in two rows and two columns.\n",
    "- The figure has the title 'Python Tutorial Exercise'.\n",
    "- Subplot 0, 0:\n",
    "    - Plots y1 vs x with a solid line.\n",
    "    - Subplot title is '1' with ylabel 'Subplot 1'.\n",
    "    - y-axis ticks on the left side.\n",
    "- Subplot 0, 1:\n",
    "    - Plots y2 vs x with a dashed line.\n",
    "    - Subplot title is '2' with ylabel 'Subplot 2'.\n",
    "    - y-axis ticks on the right side.\n",
    "- Subplot 1, 0:\n",
    "    - Plots y3 vs x with a solid line.\n",
    "    - ylabel 'Subplot 3' with xlabel 'x1'.\n",
    "    - y-axis ticks on the left side.\n",
    "- Subplot 1, 1:\n",
    "    - Plots y1 vs x with a solid line.\n",
    "    - ylabel 'Subplot 4' with xlabel 'x2'.\n",
    "    - y-axis ticks on the right side.\n",
    "\"\"\"\n",
    "# \n",
    "\n",
    "plt.show()\n",
    "\n",
    "print()"
   ]
  },
  {
   "cell_type": "code",
   "execution_count": null,
   "metadata": {},
   "outputs": [],
   "source": [
    "from PIL import Image\n",
    "from IPython.display import display\n",
    "img = Image.open('solution_plot.png')\n",
    "display(img)"
   ]
  }
 ],
 "metadata": {
  "kernelspec": {
   "display_name": "PyCharm (UMICH)",
   "language": "python",
   "name": "pycharm-a4405258"
  },
  "language_info": {
   "codemirror_mode": {
    "name": "ipython",
    "version": 3
   },
   "file_extension": ".py",
   "mimetype": "text/x-python",
   "name": "python",
   "nbconvert_exporter": "python",
   "pygments_lexer": "ipython3",
   "version": "3.8.3"
  }
 },
 "nbformat": 4,
 "nbformat_minor": 4
}
